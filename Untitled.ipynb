{
 "cells": [
  {
   "cell_type": "markdown",
   "metadata": {},
   "source": [
    "# Pythonの基礎"
   ]
  },
  {
   "cell_type": "markdown",
   "metadata": {},
   "source": [
    "# 0. 目次"
   ]
  },
  {
   "cell_type": "markdown",
   "metadata": {},
   "source": [
    "1. Pythonとは\n",
    "2. Python使う上で便利なAnaconda\n",
    "3. Pythonをとりあえず実行してみよう（viエディタ上で）\n",
    "4. 便利なjupyter notebook\n",
    "5. Pythonの基礎知識"
   ]
  },
  {
   "cell_type": "markdown",
   "metadata": {},
   "source": [
    "# 1. Pythonとは"
   ]
  },
  {
   "cell_type": "markdown",
   "metadata": {},
   "source": [
    "- 比較的最近の言語\n",
    "    - オブジェクト指向言語の一種\n",
    "    - データサイエンスの流行によって爆発的に人気、有名になった言語"
   ]
  },
  {
   "cell_type": "markdown",
   "metadata": {},
   "source": [
    "- 基礎をわかってしまえば、豊富なライブラリが使える\n",
    "    - 基礎の構文や型を覚えれれば、比較的直観的に使える\n",
    "    - やりたいことがあれば、ググればライブラリがたいてい存在する（特にデータサイエンス系のものは豊富）"
   ]
  },
  {
   "cell_type": "markdown",
   "metadata": {},
   "source": [
    "# 2. Pythonを使う上で便利なAnaconda"
   ]
  },
  {
   "cell_type": "markdown",
   "metadata": {},
   "source": [
    "2-1. Anacondaとは？\n",
    "\n",
    "2-2. Anacondaのダウンロード方法"
   ]
  },
  {
   "cell_type": "markdown",
   "metadata": {},
   "source": [
    "## 2-1. Anacondaとは"
   ]
  },
  {
   "cell_type": "markdown",
   "metadata": {},
   "source": [
    "- AnacondaとはPythonを動かすために必要なものを一通り含んでいるもの\n",
    "    - これさえあればPythonを動かす上で問題ない"
   ]
  },
  {
   "cell_type": "markdown",
   "metadata": {},
   "source": [
    "## 2-2. Anacondaのダウンロード方法"
   ]
  },
  {
   "cell_type": "markdown",
   "metadata": {},
   "source": [
    "https://www.anaconda.com/download/"
   ]
  },
  {
   "cell_type": "markdown",
   "metadata": {},
   "source": [
    "以上のサイトからpython3.6のバージョンをダウンロードして、手順通り進めば完了！\n",
    "\n",
    "とても簡単！"
   ]
  },
  {
   "cell_type": "markdown",
   "metadata": {},
   "source": [
    "# 3. Pythonをとりあえず実行してみよう"
   ]
  },
  {
   "cell_type": "markdown",
   "metadata": {},
   "source": [
    "～～.pyというファイルを作る\n",
    "\n",
    "下記のプログラムをviエディタで書いてみよう"
   ]
  },
  {
   "cell_type": "code",
   "execution_count": 3,
   "metadata": {
    "collapsed": false
   },
   "outputs": [
    {
     "name": "stdout",
     "output_type": "stream",
     "text": [
      "HELLO WORLD\n"
     ]
    }
   ],
   "source": [
    "if __name__ == '__main__':\n",
    "    print(\"HELLO WORLD\")"
   ]
  },
  {
   "cell_type": "markdown",
   "metadata": {},
   "source": [
    "実行するときは\n",
    "\n",
    "python ～～.py"
   ]
  },
  {
   "cell_type": "markdown",
   "metadata": {},
   "source": [
    "# 4. 便利なjupyter notebookを使おう"
   ]
  },
  {
   "cell_type": "markdown",
   "metadata": {},
   "source": [
    "4-1. jupyter notebookとは\n",
    "\n",
    "4-2. 実際使ってみよう"
   ]
  },
  {
   "cell_type": "markdown",
   "metadata": {},
   "source": [
    "## 4-1. jupyter notebookとは"
   ]
  },
  {
   "cell_type": "markdown",
   "metadata": {},
   "source": [
    "- コードのその実行結果を簡単に表示してくれるもの\n",
    "\n",
    "- マークダウンなどもかけるのでコードと一緒にメモも残せるためコードづくりの資料作りも便利"
   ]
  },
  {
   "cell_type": "markdown",
   "metadata": {},
   "source": [
    "例えば"
   ]
  },
  {
   "cell_type": "code",
   "execution_count": 12,
   "metadata": {
    "collapsed": false
   },
   "outputs": [
    {
     "data": {
      "text/plain": [
       "7"
      ]
     },
     "execution_count": 12,
     "metadata": {},
     "output_type": "execute_result"
    }
   ],
   "source": [
    "2+5"
   ]
  },
  {
   "cell_type": "markdown",
   "metadata": {},
   "source": [
    "printを使わず結果を出すなど簡単に結果が出てくる\n",
    "\n",
    "注意点として、この便利さに慣れすぎると大変"
   ]
  },
  {
   "cell_type": "markdown",
   "metadata": {},
   "source": [
    "### __（重要）ここは作業場であってコードを試す、完成させるのが目標__"
   ]
  },
  {
   "cell_type": "markdown",
   "metadata": {},
   "source": [
    "jupyter notebook上で動作したからと言って、そのまま.pyファイルにしても動かない\n",
    "\n",
    "jupyter notebookがかなり特殊なことを忘れない"
   ]
  },
  {
   "cell_type": "markdown",
   "metadata": {},
   "source": [
    "## 4-2. 実際使ってみよう"
   ]
  },
  {
   "cell_type": "markdown",
   "metadata": {},
   "source": [
    "1. windowsならコマンドプロンプト、linuxならターミナルを開く\n",
    "2. 作業をしたい場所まで移動をしてjupyter notebookと入力して実行する\n",
    "3. 右上のNewのところからPython3と書いてある場所を選択する\n",
    "4. ここで好きなコードを打ち込んで実行していこう"
   ]
  },
  {
   "cell_type": "markdown",
   "metadata": {},
   "source": [
    "TIPS：コマンドモードとエディタモードがあるから注意しよう"
   ]
  },
  {
   "cell_type": "markdown",
   "metadata": {},
   "source": [
    "TIPS：わかなくなったらhを押すことでショートカットキー一覧が出る"
   ]
  },
  {
   "cell_type": "markdown",
   "metadata": {},
   "source": [
    "#  5. Pythonの基礎知識"
   ]
  },
  {
   "cell_type": "markdown",
   "metadata": {},
   "source": [
    "5-1. リスト\n",
    "\n",
    "5-2. タプル\n",
    "\n",
    "5-3. ディクショナリ型（辞書型）\n",
    "\n",
    "5-4. 条件分岐(if文)\n",
    "\n",
    "5-5. while文\n",
    "\n",
    "5-6. for文"
   ]
  },
  {
   "cell_type": "markdown",
   "metadata": {},
   "source": [
    "## 5-1. リスト"
   ]
  },
  {
   "cell_type": "markdown",
   "metadata": {},
   "source": [
    "リストとは、複数の要素が代入しているもの\n",
    "\n",
    "最初の要素からインデックスのようなものが振られている\n",
    "\n",
    "Pythonを便利にしている理由の一つ\n",
    "\n",
    "以下のようにlistはつくる"
   ]
  },
  {
   "cell_type": "code",
   "execution_count": 22,
   "metadata": {
    "collapsed": true
   },
   "outputs": [],
   "source": [
    "sample_list = []"
   ]
  },
  {
   "cell_type": "markdown",
   "metadata": {},
   "source": [
    "これだけ、とても簡単\n",
    "\n",
    "要素を付け足すときは"
   ]
  },
  {
   "cell_type": "code",
   "execution_count": 23,
   "metadata": {
    "collapsed": false
   },
   "outputs": [
    {
     "name": "stdout",
     "output_type": "stream",
     "text": [
      "['hogehoge']\n"
     ]
    }
   ],
   "source": [
    "sample_list.append(\"hogehoge\")\n",
    "print (sample_list)"
   ]
  },
  {
   "cell_type": "markdown",
   "metadata": {},
   "source": [
    "とても簡単\n",
    "\n",
    "最初から要素が入っているリスト型オブジェクトを作る場合は"
   ]
  },
  {
   "cell_type": "code",
   "execution_count": 24,
   "metadata": {
    "collapsed": true
   },
   "outputs": [],
   "source": [
    "sample_list_2 = [\"hoge\",\"hogehoge\",\"hogehogehoge\"]"
   ]
  },
  {
   "cell_type": "markdown",
   "metadata": {},
   "source": [
    "リストの中にリストも入れられる"
   ]
  },
  {
   "cell_type": "code",
   "execution_count": 25,
   "metadata": {
    "collapsed": false
   },
   "outputs": [
    {
     "data": {
      "text/plain": [
       "['hoge', 'hogehoge', 'hogehogehoge', ['hogehoge']]"
      ]
     },
     "execution_count": 25,
     "metadata": {},
     "output_type": "execute_result"
    }
   ],
   "source": [
    "sample_list_2.append(sample_list)\n",
    "sample_list_2"
   ]
  },
  {
   "cell_type": "markdown",
   "metadata": {},
   "source": [
    "この中からhogehogeを取り出したいときは"
   ]
  },
  {
   "cell_type": "code",
   "execution_count": 26,
   "metadata": {
    "collapsed": false
   },
   "outputs": [
    {
     "data": {
      "text/plain": [
       "'hogehoge'"
      ]
     },
     "execution_count": 26,
     "metadata": {},
     "output_type": "execute_result"
    }
   ],
   "source": [
    "sample_list_2[1]"
   ]
  },
  {
   "cell_type": "markdown",
   "metadata": {},
   "source": [
    "[0番目、1番目、2番目、・・・]\n",
    "\n",
    "と進んでいく\n",
    "\n",
    "削除したいときは"
   ]
  },
  {
   "cell_type": "code",
   "execution_count": 27,
   "metadata": {
    "collapsed": false
   },
   "outputs": [
    {
     "data": {
      "text/plain": [
       "['hoge', 'hogehogehoge', ['hogehoge']]"
      ]
     },
     "execution_count": 27,
     "metadata": {},
     "output_type": "execute_result"
    }
   ],
   "source": [
    "sample_list_2.pop(1)\n",
    "sample_list_2"
   ]
  },
  {
   "cell_type": "markdown",
   "metadata": {},
   "source": [
    "このように1番目の要素が消えている\n",
    "\n",
    "リスト型の要素の検索、複数削除、何番目に要素を代入などといろいろできることはある\n",
    "\n",
    "そこはググって調べよう"
   ]
  },
  {
   "cell_type": "markdown",
   "metadata": {},
   "source": [
    "## 5-2. タプル"
   ]
  }
 ],
 "metadata": {
  "kernelspec": {
   "display_name": "Python 3",
   "language": "python",
   "name": "python3"
  },
  "language_info": {
   "codemirror_mode": {
    "name": "ipython",
    "version": 3
   },
   "file_extension": ".py",
   "mimetype": "text/x-python",
   "name": "python",
   "nbconvert_exporter": "python",
   "pygments_lexer": "ipython3",
   "version": "3.6.0"
  }
 },
 "nbformat": 4,
 "nbformat_minor": 2
}
